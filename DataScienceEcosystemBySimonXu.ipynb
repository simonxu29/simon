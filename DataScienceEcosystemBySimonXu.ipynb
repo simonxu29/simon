{
 "cells": [
  {
   "cell_type": "markdown",
   "id": "11ec9b86-1e1b-4d30-b037-df7725d3c5ab",
   "metadata": {},
   "source": [
    "# Data Science Tools and Ecosystems"
   ]
  },
  {
   "cell_type": "markdown",
   "id": "30f3b0f9-06a1-44b5-be36-c56eba7f073f",
   "metadata": {},
   "source": [
    "###### In this notebook, Data Science Tools and Ecosystem are summarized."
   ]
  },
  {
   "cell_type": "markdown",
   "id": "f4218759-83a3-479d-b392-2a78ee963ec2",
   "metadata": {},
   "source": [
    "**Objectives:**\n",
    "- List some of the languages that Data Scientists use.\n",
    "- List some of the commonly used libraries by Data Scientists include.\n",
    "- List some of the Data Science Tools.\n",
    "- List a few examples of arithmetic expressions in R or Python.\n",
    "- Example of expressions converting minutes to hours by Python."
   ]
  },
  {
   "cell_type": "markdown",
   "id": "4beb4d88-53eb-4e82-84c2-42bd0d74e993",
   "metadata": {},
   "source": [
    "###### Some of the popular languages that Data Scientists use are:\n",
    "- R\n",
    "- Python\n",
    "- Java\n",
    "- Javascript\n",
    "- C\n",
    "- C++\n",
    "- SQL\n"
   ]
  },
  {
   "cell_type": "markdown",
   "id": "8a49eab4-6a70-49af-9fa0-3198e06c68f3",
   "metadata": {},
   "source": [
    "###### Some of the commonly used libraries used by Data Scientists include:\n",
    "* ggplot\n",
    "* pandas\n",
    "* nmpy\n",
    "* stringr\n",
    "* dplyr"
   ]
  },
  {
   "cell_type": "markdown",
   "id": "97e31eb5-a7e7-4c57-a8ee-98c3e2561138",
   "metadata": {},
   "source": [
    "|Data Science Tools|\n",
    "|------------------|\n",
    "|Rstudio|\n",
    "|Jupyter|\n",
    "|Julia|\n",
    "|Visual Studio|\n",
    "|Anaconda Navigator|\n",
    "|Pycharm|"
   ]
  },
  {
   "cell_type": "markdown",
   "id": "8ffb9c88-2e09-465c-a14f-fd6c08d5fb62",
   "metadata": {},
   "source": [
    "### Below are a few examples of evaluating arithmetic expressions in R.\n",
    "- x <- 1\n",
    "- y <- 2\n",
    "- z <- x + y\n",
    "- print(z)\n",
    "- ggplot(aes(x = 10, y = 20), data = sample dataset) + geom_point() + ggtitle(\"Sample Title Here\") + labs( x = \"Sample X Labs Here\", y = \"Sampel Y Labs Here\")"
   ]
  },
  {
   "cell_type": "code",
   "execution_count": 2,
   "id": "b72e6c50-1011-459d-8026-e4a4890f1785",
   "metadata": {},
   "outputs": [
    {
     "data": {
      "text/plain": [
       "17"
      ]
     },
     "execution_count": 2,
     "metadata": {},
     "output_type": "execute_result"
    }
   ],
   "source": [
    "# This a simple arithmetic expression to mutiply then add integers\n",
    "(3*5)+2"
   ]
  },
  {
   "cell_type": "code",
   "execution_count": 9,
   "id": "adf95a58-e91f-4d35-96c7-f6138aaabf33",
   "metadata": {},
   "outputs": [
    {
     "name": "stdout",
     "output_type": "stream",
     "text": [
      "3.3333333333333335\n"
     ]
    }
   ],
   "source": [
    "# This will convert 200 minutes to hours by diving by 60\n",
    "minutes = 200\n",
    "hours = minutes / 60\n",
    "print(hours)"
   ]
  },
  {
   "cell_type": "markdown",
   "id": "ca671ed1-d5a8-4c3d-85f4-5172e8e1155c",
   "metadata": {},
   "source": [
    "## Author\n",
    "\n",
    "Simon Xu"
   ]
  }
 ],
 "metadata": {
  "kernelspec": {
   "display_name": "Python 3 (ipykernel)",
   "language": "python",
   "name": "python3"
  },
  "language_info": {
   "codemirror_mode": {
    "name": "ipython",
    "version": 3
   },
   "file_extension": ".py",
   "mimetype": "text/x-python",
   "name": "python",
   "nbconvert_exporter": "python",
   "pygments_lexer": "ipython3",
   "version": "3.12.9"
  }
 },
 "nbformat": 4,
 "nbformat_minor": 5
}
